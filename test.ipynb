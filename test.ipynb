{
 "cells": [
  {
   "cell_type": "code",
   "execution_count": 1,
   "metadata": {},
   "outputs": [],
   "source": [
    "import numpy as np\n",
    "from fonctions_projets import *\n",
    "import time\n",
    "import matplotlib.pyplot as plt"
   ]
  },
  {
   "cell_type": "code",
   "execution_count": 2,
   "metadata": {},
   "outputs": [],
   "source": [
    "def test(n,step):\n",
    "    #parameter of loi nomral\n",
    "    m=1000\n",
    "    #for each size of solutions-set, calculate the average time of 50 trials\n",
    "    nb_trial=50\n",
    "    x=[]\n",
    "    temps_moyen_naif=[]\n",
    "    temps_moyen_lex=[]\n",
    "    for i in range(200,n+1,step):\n",
    "        #solutions set\n",
    "        x.append(i)\n",
    "        tmp_naif = 0\n",
    "        tmp_lex =0\n",
    "        for j in range(nb_trial):\n",
    "            test_set = vecteur_alea(n,m)\n",
    "            time_naif_start = time.time()\n",
    "            d1=recherche_exhaustif(test_set,True)\n",
    "            time_naif_end = time.time()\n",
    "            tmp_naif += time_naif_end-time_naif_start\n",
    "            \n",
    "            time_lex_start = time.time()\n",
    "            d2=recherche_lexicographique(test_set, True)\n",
    "            time_lex_end = time.time()\n",
    "            tmp_lex += time_lex_end-time_lex_start\n",
    "            if(len(set(d1).difference(set(d2)))!=0):\n",
    "                raise Exception(\"error in algorithme!\")\n",
    "        temps_moyen_naif.append(tmp_naif/nb_trial)\n",
    "        temps_moyen_lex.append(tmp_lex/nb_trial)\n",
    "    \n",
    "    plot_figure(x,temps_moyen_naif,temps_moyen_lex)\n",
    "    "
   ]
  },
  {
   "cell_type": "code",
   "execution_count": 3,
   "metadata": {},
   "outputs": [],
   "source": [
    "def plot_figure(x,tn,tl):\n",
    "    plt.title(\"La courbe du temps d'exécution\")\n",
    "    plt.xlabel(\"taille d'ensemle des solutions\")\n",
    "    plt.ylabel(\"temps\")\n",
    "    plt.plot(x,tn,color='r',label=\"recherche exhaustive\")\n",
    "    plt.plot(x,tl,color='b',label=\"recherche lexicographique\")\n",
    "    plt.legend()"
   ]
  },
  {
   "cell_type": "markdown",
   "metadata": {},
   "source": [
    "## Test la programmation dynamique"
   ]
  },
  {
   "cell_type": "code",
   "execution_count": 4,
   "metadata": {},
   "outputs": [],
   "source": [
    "test = np.array([1,4,2,3,5,2,2,2,3,1,2,5,3,4]).reshape((-1,2))"
   ]
  },
  {
   "cell_type": "code",
   "execution_count": 5,
   "metadata": {},
   "outputs": [],
   "source": [
    "ens_opt=prog_dynamique(test,3,True)"
   ]
  },
  {
   "cell_type": "code",
   "execution_count": 6,
   "metadata": {},
   "outputs": [
    {
     "data": {
      "text/plain": [
       "array([[1., 1., 0., 1., 0., 0., 0.],\n",
       "       [1., 0., 0., 1., 1., 0., 0.],\n",
       "       [0., 1., 0., 1., 1., 0., 0.],\n",
       "       [0., 0., 1., 1., 1., 0., 0.]])"
      ]
     },
     "execution_count": 6,
     "metadata": {},
     "output_type": "execute_result"
    }
   ],
   "source": [
    "ens_opt"
   ]
  },
  {
   "cell_type": "code",
   "execution_count": 7,
   "metadata": {},
   "outputs": [
    {
     "data": {
      "text/plain": [
       "array([[ 5,  9],\n",
       "       [ 6,  7],\n",
       "       [ 7,  6],\n",
       "       [10,  5]])"
      ]
     },
     "execution_count": 7,
     "metadata": {},
     "output_type": "execute_result"
    }
   ],
   "source": [
    "image(test,ens_opt)"
   ]
  },
  {
   "cell_type": "markdown",
   "metadata": {},
   "source": [
    "## Test la procedure en deux phases"
   ]
  },
  {
   "cell_type": "code",
   "execution_count": 8,
   "metadata": {},
   "outputs": [
    {
     "data": {
      "text/plain": [
       "(array([6, 7]), array([1., 0., 0., 1., 1., 0., 0.]))"
      ]
     },
     "execution_count": 8,
     "metadata": {},
     "output_type": "execute_result"
    }
   ],
   "source": [
    "minimax_deux_temps(test,3,0.4,0.7,True)"
   ]
  },
  {
   "cell_type": "code",
   "execution_count": null,
   "metadata": {},
   "outputs": [],
   "source": []
  }
 ],
 "metadata": {
  "kernelspec": {
   "display_name": "Python 3",
   "language": "python",
   "name": "python3"
  },
  "language_info": {
   "codemirror_mode": {
    "name": "ipython",
    "version": 3
   },
   "file_extension": ".py",
   "mimetype": "text/x-python",
   "name": "python",
   "nbconvert_exporter": "python",
   "pygments_lexer": "ipython3",
   "version": "3.7.1"
  }
 },
 "nbformat": 4,
 "nbformat_minor": 2
}
