{
 "cells": [
  {
   "cell_type": "code",
   "execution_count": 7,
   "metadata": {},
   "outputs": [],
   "source": [
    "import numpy as np"
   ]
  },
  {
   "cell_type": "code",
   "execution_count": 1,
   "metadata": {},
   "outputs": [],
   "source": [
    "#Q2: génère un ensemble de n vecteurs où chaque composante est tirée aléatoirement selon une loi normale d'espérance m et d'écart-type m/4.\n",
    "def vecteur_alea(n,m):\n",
    "    #il faut eliminer \n",
    "    vect=np.random.normal(m,m/4,[n,2])\n",
    "    return vect"
   ]
  },
  {
   "cell_type": "code",
   "execution_count": 11,
   "metadata": {},
   "outputs": [
    {
     "data": {
      "text/plain": [
       "numpy.ndarray"
      ]
     },
     "execution_count": 11,
     "metadata": {},
     "output_type": "execute_result"
    }
   ],
   "source": [
    "type(t)"
   ]
  },
  {
   "cell_type": "code",
   "execution_count": 67,
   "metadata": {},
   "outputs": [],
   "source": [
    "#on suppose qu'il n'existe pas des vecteurs equals\n",
    "def compare(a,b,MIN):\n",
    "    if(MIN):\n",
    "        #need check the fonction np.all\n",
    "        if((a<=b).all()):\n",
    "            result='a'\n",
    "        elif((b<=a).all()):\n",
    "            result='b'\n",
    "        else:\n",
    "            result='incomparable'\n",
    "    return result    "
   ]
  },
  {
   "cell_type": "code",
   "execution_count": 112,
   "metadata": {},
   "outputs": [],
   "source": [
    "#Q3\n",
    "#ens_vecteurs: type np.ndarray\n",
    "#min=true if it is a minimisation problem\n",
    "def recherche_exhaustif(ens_vecteurs, MIN):\n",
    "    #normalement un vecteur contient 2 composants, N=2\n",
    "    D = ens_vecteurs.shape[1]\n",
    "    N = ens_vecteurs.shape[0]\n",
    "    non_dominer_index=[]\n",
    "    domine_index=[]\n",
    "    for i in range(N):\n",
    "        for j in range(i+1,N):\n",
    "            a=np.array(ens_vecteurs[i,:])\n",
    "            b=np.array(ens_vecteurs[j,:])\n",
    "            domine=compare(a,b,MIN)\n",
    "            #if a isn't stored\n",
    "            #print(i,j,a,b,domine)\n",
    "            if(domine=='a'):\n",
    "                if(not(i in non_dominer_index)):\n",
    "                    non_dominer_index.append(i)\n",
    "                if(j in non_dominer_index):\n",
    "                    non_dominer_index.remove(j)\n",
    "                    #print(non_dominer_index)\n",
    "                if(not(j in domine_index)):\n",
    "                    domine_index.append(j)\n",
    "            elif(domine=='b'):\n",
    "                if(not(j in non_dominer_index)):\n",
    "                    non_dominer_index.append(j)\n",
    "                if(i in non_dominer_index):\n",
    "                    non_dominer_index.remove(i)\n",
    "                if(not(i in domine_index)):\n",
    "                    domine_index.append(i)\n",
    "            #incomparable\n",
    "            elif(domine=='incomparable'):\n",
    "                if not(i in non_dominer_index):\n",
    "                    non_dominer_index.append(i)\n",
    "                if not(j in non_dominer_index):\n",
    "                    non_dominer_index.append(j)\n",
    "    print(domine_index)\n",
    "    non_dominer_index = [x for x in non_dominer_index if x not in domine_index]\n",
    "    \n",
    "    return non_dominer_index"
   ]
  },
  {
   "cell_type": "code",
   "execution_count": 175,
   "metadata": {},
   "outputs": [],
   "source": [
    "def tri_lexicographique(ens_vecteurs,lex):\n",
    "    D = ens_vecteurs.shape[1]\n",
    "    #un ordre de comparaison, exemple pour D=2, lex=[0,1] ou [1,0]\n",
    "    \n",
    "    #if(lex !=np.arange(D)):\n",
    "    #    raise Exception(\"Lex out of range\")\n",
    "    #else:\n",
    "    a = ens_vecteurs[:,lex[0]]\n",
    "    b = ens_vecteurs[:,lex[1]]\n",
    "    c = ens_vecteurs[:,lex[2]]\n",
    "    d = ens_vecteurs[:,lex[3]]\n",
    "    ens_lex = np.lexsort((d,c,b,a))\n",
    "    #tri lexicographique\n",
    "    return ens_lex      "
   ]
  },
  {
   "cell_type": "code",
   "execution_count": 176,
   "metadata": {},
   "outputs": [],
   "source": [
    "def tri_lexicographique2(ens_vecteurs,lex):\n",
    "    #bi-objectif\n",
    "    D = ens_vecteurs.shape[1]\n",
    "    #un ordre de comparaison, exemple pour D=2, lex=[0,1] ou [1,0]\n",
    "    \n",
    "    a = ens_vecteurs[:,lex[0]]\n",
    "    b = ens_vecteurs[:,lex[1]]\n",
    "    print(a,b)\n",
    "    ens_lex = np.lexsort((b,a))#tri by a, then by b\n",
    "    return ens_lex      "
   ]
  },
  {
   "cell_type": "code",
   "execution_count": 173,
   "metadata": {},
   "outputs": [],
   "source": [
    "def recherche_lexicographique(ens_vecteurs, MIN):\n",
    "    ordre_lex = tri_lexicographique(ens_vecteurs,lex)\n",
    "    #ordre_lex = tri_lexicographique2(ens_vecteurs,lex)\n",
    "    print(ordre_lex)\n",
    "    non_domine_index=[]\n",
    "    for l in range(len(ordre_lex)):\n",
    "        if(l==0):\n",
    "            non_domine_index.append(ordre_lex[0])\n",
    "        else:\n",
    "            #index de la solution non domine\n",
    "            dernier = non_domine_index[-1]\n",
    "            actuel = ordre_lex[l]\n",
    "            a = np.array(ens_vecteurs[dernier,:])\n",
    "            b = np.array(ens_vecteurs[actuel,:])\n",
    "            domine = compare(a,b,True)\n",
    "            if(domine == 'incomparable'):\n",
    "                non_domine_index.append(actuel)\n",
    "                \n",
    "    return non_domine_index"
   ]
  },
  {
   "cell_type": "code",
   "execution_count": 79,
   "metadata": {},
   "outputs": [],
   "source": [
    "test=np.array([5,2,7,9,3,4,6,7,4,3,7,9,6,6,6,6,5,2,9,7,5,6,6,7,5,2,10,10,15,15,5,18])"
   ]
  },
  {
   "cell_type": "code",
   "execution_count": 80,
   "metadata": {},
   "outputs": [],
   "source": [
    "test=np.reshape(test,(8,4))"
   ]
  },
  {
   "cell_type": "code",
   "execution_count": 134,
   "metadata": {},
   "outputs": [
    {
     "data": {
      "text/plain": [
       "array([[ 5,  2,  7,  9],\n",
       "       [ 3,  4,  6,  7],\n",
       "       [ 4,  3,  7,  9],\n",
       "       [ 6,  6,  6,  6],\n",
       "       [ 5,  2,  9,  7],\n",
       "       [ 5,  6,  6,  7],\n",
       "       [ 5,  2, 10, 10],\n",
       "       [15, 15,  5, 18]])"
      ]
     },
     "execution_count": 134,
     "metadata": {},
     "output_type": "execute_result"
    }
   ],
   "source": [
    "test"
   ]
  },
  {
   "cell_type": "code",
   "execution_count": 114,
   "metadata": {},
   "outputs": [
    {
     "name": "stdout",
     "output_type": "stream",
     "text": [
      "[6, 5]\n"
     ]
    },
    {
     "data": {
      "text/plain": [
       "[0, 1, 2, 3, 4, 7]"
      ]
     },
     "execution_count": 114,
     "metadata": {},
     "output_type": "execute_result"
    }
   ],
   "source": [
    "recherche_exhaustif(test,True)"
   ]
  },
  {
   "cell_type": "code",
   "execution_count": 177,
   "metadata": {},
   "outputs": [
    {
     "name": "stdout",
     "output_type": "stream",
     "text": [
      "[7 3 1 5 0 2 4 6]\n"
     ]
    },
    {
     "data": {
      "text/plain": [
       "[7, 3, 1, 0, 2, 4]"
      ]
     },
     "execution_count": 177,
     "metadata": {},
     "output_type": "execute_result"
    }
   ],
   "source": [
    "recherche_lexicographique(test,True)"
   ]
  },
  {
   "cell_type": "code",
   "execution_count": null,
   "metadata": {},
   "outputs": [],
   "source": []
  }
 ],
 "metadata": {
  "kernelspec": {
   "display_name": "Python 3",
   "language": "python",
   "name": "python3"
  },
  "language_info": {
   "codemirror_mode": {
    "name": "ipython",
    "version": 3
   },
   "file_extension": ".py",
   "mimetype": "text/x-python",
   "name": "python",
   "nbconvert_exporter": "python",
   "pygments_lexer": "ipython3",
   "version": "3.7.1"
  }
 },
 "nbformat": 4,
 "nbformat_minor": 2
}
