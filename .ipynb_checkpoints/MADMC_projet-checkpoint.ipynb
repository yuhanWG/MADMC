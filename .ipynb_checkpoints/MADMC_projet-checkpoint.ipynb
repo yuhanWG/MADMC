{
 "cells": [
  {
   "cell_type": "code",
   "execution_count": 10,
   "metadata": {},
   "outputs": [],
   "source": [
    "import numpy as np\n",
    "from fonctions_projets import *"
   ]
  },
  {
   "cell_type": "code",
   "execution_count": 11,
   "metadata": {},
   "outputs": [],
   "source": [
    "#Q2: génère un ensemble de n vecteurs où chaque composante est tirée aléatoirement selon une loi normale d'espérance m et d'écart-type m/4.\n",
    "def vecteur_alea(n,m):\n",
    "    #il faut eliminer les composants identiques\n",
    "    c1=[]\n",
    "    c2=[]\n",
    "    for i in range(n):\n",
    "        a=np.random.normal(m,m/4)\n",
    "        b=np.random.normal(m,m/4)\n",
    "        while((a in c1) and (b in c2)):\n",
    "            a=np.random.normal(m,m/4)\n",
    "            b=np.random.normal(m,m/4)\n",
    "        c1.append(a)\n",
    "        c2.append(b)\n",
    "    \n",
    "    c1=np.array(c1).reshape(-1,1)\n",
    "    c2=np.array(c2).reshape(-1,1)\n",
    "    vect=np.hstack((c1,c2))\n",
    "    return vect"
   ]
  },
  {
   "cell_type": "code",
   "execution_count": 12,
   "metadata": {},
   "outputs": [],
   "source": [
    "#on suppose qu'il n'existe pas des vecteurs equals\n",
    "def compare(a,b,MIN):\n",
    "    if(MIN):\n",
    "        #need check the fonction np.all\n",
    "        if((a<=b).all()):\n",
    "            result='a'\n",
    "        elif((b<=a).all()):\n",
    "            result='b'\n",
    "        else:\n",
    "            result='incomparable'\n",
    "    return result    "
   ]
  },
  {
   "cell_type": "code",
   "execution_count": 83,
   "metadata": {},
   "outputs": [],
   "source": [
    "#Q3\n",
    "#ens_vecteurs: type np.ndarray\n",
    "#min=true if it is a minimisation problem\n",
    "def recherche_exhaustif(ens_vecteurs, MIN):\n",
    "    #normalement un vecteur contient 2 composants, N=2\n",
    "    D = ens_vecteurs.shape[1]\n",
    "    N = ens_vecteurs.shape[0]\n",
    "    non_dominer_index=[]\n",
    "    domine_index=[]\n",
    "    for i in range(N):\n",
    "        for j in range(i+1,N):\n",
    "            a=np.array(ens_vecteurs[i,:])\n",
    "            b=np.array(ens_vecteurs[j,:])\n",
    "            domine=compare(a,b,MIN)\n",
    "            #if a isn't stored\n",
    "            #print(i,j,a,b,domine)\n",
    "            if(domine=='a'):\n",
    "                if(not(i in non_dominer_index)):\n",
    "                    non_dominer_index.append(i)\n",
    "                if(j in non_dominer_index):\n",
    "                    non_dominer_index.remove(j)\n",
    "                    #print(non_dominer_index)\n",
    "                if(not(j in domine_index)):\n",
    "                    domine_index.append(j)\n",
    "            elif(domine=='b'):\n",
    "                if(not(j in non_dominer_index)):\n",
    "                    non_dominer_index.append(j)\n",
    "                if(i in non_dominer_index):\n",
    "                    non_dominer_index.remove(i)\n",
    "                if(not(i in domine_index)):\n",
    "                    domine_index.append(i)\n",
    "            #incomparable\n",
    "            elif(domine=='incomparable'):\n",
    "                if not(i in non_dominer_index):\n",
    "                    non_dominer_index.append(i)\n",
    "                if not(j in non_dominer_index):\n",
    "                    non_dominer_index.append(j)\n",
    "    #print(domine_index)\n",
    "    non_dominer_index = [x for x in non_dominer_index if x not in domine_index]\n",
    "    \n",
    "    return np.array(non_dominer_index)"
   ]
  },
  {
   "cell_type": "code",
   "execution_count": 81,
   "metadata": {},
   "outputs": [],
   "source": [
    "def tri_lexicographique(ens_vecteurs):\n",
    "    #bi-objectif\n",
    "    D = ens_vecteurs.shape[1]\n",
    "    #un ordre de comparaison, exemple pour D=2, lex=[0,1] ou [1,0]\n",
    "    lex=[0,1]\n",
    "    a = ens_vecteurs[:,lex[0]]\n",
    "    b = ens_vecteurs[:,lex[1]]\n",
    "    ens_lex = np.lexsort((b,a))#tri by a, then by b\n",
    "    #print(ens_lex)\n",
    "    return ens_lex      "
   ]
  },
  {
   "cell_type": "code",
   "execution_count": 82,
   "metadata": {},
   "outputs": [],
   "source": [
    "def recherche_lexicographique(ens_vecteurs, MIN):\n",
    "    ordre_lex = tri_lexicographique(ens_vecteurs)\n",
    "    non_domine_index=[]\n",
    "    for l in range(len(ordre_lex)):\n",
    "        if(l==0):\n",
    "            non_domine_index.append(ordre_lex[0])\n",
    "        else:\n",
    "            #index de la solution non domine\n",
    "            dernier = non_domine_index[-1]\n",
    "            actuel = ordre_lex[l]\n",
    "            a = np.array(ens_vecteurs[dernier,:])\n",
    "            b = np.array(ens_vecteurs[actuel,:])\n",
    "            domine = compare(a,b,True)\n",
    "            if(domine == 'incomparable'):\n",
    "                non_domine_index.append(actuel)\n",
    "             \n",
    "    return np.array(non_domine_index)"
   ]
  },
  {
   "cell_type": "code",
   "execution_count": 94,
   "metadata": {},
   "outputs": [],
   "source": [
    "test=vecteur_alea(100,4)"
   ]
  },
  {
   "cell_type": "code",
   "execution_count": 85,
   "metadata": {},
   "outputs": [
    {
     "data": {
      "text/plain": [
       "array([[4.45728651, 4.40947625],\n",
       "       [3.72868005, 4.58720051],\n",
       "       [4.01496204, 3.84025637],\n",
       "       [6.28076332, 3.41562836],\n",
       "       [3.645863  , 6.1062038 ],\n",
       "       [2.53929239, 1.97759087],\n",
       "       [4.06309638, 4.00149039],\n",
       "       [5.19538075, 4.09491063],\n",
       "       [3.16867092, 4.16193734],\n",
       "       [5.86376028, 3.3506162 ],\n",
       "       [5.23553104, 4.0073577 ],\n",
       "       [3.19152901, 4.92005278],\n",
       "       [3.29066542, 4.97029634],\n",
       "       [3.84589826, 3.98029948],\n",
       "       [4.00099923, 3.74492739],\n",
       "       [2.92762117, 2.05875408],\n",
       "       [3.3400404 , 3.94629559],\n",
       "       [3.97129277, 4.32644983],\n",
       "       [4.74676702, 4.83553298],\n",
       "       [2.52189868, 3.17226606]])"
      ]
     },
     "execution_count": 85,
     "metadata": {},
     "output_type": "execute_result"
    }
   ],
   "source": [
    "test"
   ]
  },
  {
   "cell_type": "code",
   "execution_count": 95,
   "metadata": {},
   "outputs": [],
   "source": [
    "d1=recherche_exhaustif(test, True)"
   ]
  },
  {
   "cell_type": "code",
   "execution_count": 96,
   "metadata": {},
   "outputs": [],
   "source": [
    "d2=recherche_lexicographique(test,True)"
   ]
  },
  {
   "cell_type": "code",
   "execution_count": 97,
   "metadata": {},
   "outputs": [
    {
     "data": {
      "text/plain": [
       "array([55, 85, 83, 34, 17], dtype=int64)"
      ]
     },
     "execution_count": 97,
     "metadata": {},
     "output_type": "execute_result"
    }
   ],
   "source": [
    "d2"
   ]
  },
  {
   "cell_type": "code",
   "execution_count": 98,
   "metadata": {},
   "outputs": [
    {
     "data": {
      "text/plain": [
       "array([17, 34, 55, 83, 85])"
      ]
     },
     "execution_count": 98,
     "metadata": {},
     "output_type": "execute_result"
    }
   ],
   "source": [
    "d1"
   ]
  },
  {
   "cell_type": "code",
   "execution_count": 99,
   "metadata": {},
   "outputs": [
    {
     "name": "stdout",
     "output_type": "stream",
     "text": [
      "set()\n"
     ]
    }
   ],
   "source": [
    "print(set(d1).difference(set(d2)))"
   ]
  },
  {
   "cell_type": "code",
   "execution_count": null,
   "metadata": {},
   "outputs": [],
   "source": []
  }
 ],
 "metadata": {
  "kernelspec": {
   "display_name": "Python 3",
   "language": "python",
   "name": "python3"
  },
  "language_info": {
   "codemirror_mode": {
    "name": "ipython",
    "version": 3
   },
   "file_extension": ".py",
   "mimetype": "text/x-python",
   "name": "python",
   "nbconvert_exporter": "python",
   "pygments_lexer": "ipython3",
   "version": "3.7.1"
  }
 },
 "nbformat": 4,
 "nbformat_minor": 2
}
