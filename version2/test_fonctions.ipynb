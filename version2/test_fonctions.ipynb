{
 "cells": [
  {
   "cell_type": "code",
   "execution_count": 1,
   "metadata": {},
   "outputs": [],
   "source": [
    "import numpy as np\n",
    "from fonctions import *\n",
    "#from pg import *\n",
    "import time\n",
    "import matplotlib.pyplot as plt"
   ]
  },
  {
   "cell_type": "code",
   "execution_count": 2,
   "metadata": {},
   "outputs": [],
   "source": [
    "test=np.array([1,4,2,3,5,2,2,2,3,1,2,5,3,4])"
   ]
  },
  {
   "cell_type": "code",
   "execution_count": 3,
   "metadata": {},
   "outputs": [],
   "source": [
    "test=test.reshape((-1,2))"
   ]
  },
  {
   "cell_type": "code",
   "execution_count": 5,
   "metadata": {},
   "outputs": [],
   "source": [
    "index=prog_dynamique(test,3,True)"
   ]
  },
  {
   "cell_type": "code",
   "execution_count": 6,
   "metadata": {},
   "outputs": [],
   "source": [
    "result = image(test,index)"
   ]
  },
  {
   "cell_type": "code",
   "execution_count": 7,
   "metadata": {},
   "outputs": [
    {
     "data": {
      "text/plain": [
       "array([[ 5,  9],\n",
       "       [ 6,  7],\n",
       "       [ 7,  6],\n",
       "       [10,  5]])"
      ]
     },
     "execution_count": 7,
     "metadata": {},
     "output_type": "execute_result"
    }
   ],
   "source": [
    "result"
   ]
  },
  {
   "cell_type": "code",
   "execution_count": 8,
   "metadata": {},
   "outputs": [
    {
     "data": {
      "text/plain": [
       "(array([[[6, 7],\n",
       "         [7, 6]]]),\n",
       " array([[[1., 0., 0., 1., 1., 0., 0.],\n",
       "         [0., 1., 0., 1., 1., 0., 0.]]]))"
      ]
     },
     "execution_count": 8,
     "metadata": {},
     "output_type": "execute_result"
    }
   ],
   "source": [
    "minimax_deux_temps(test,3,0,1,True)"
   ]
  },
  {
   "cell_type": "code",
   "execution_count": 22,
   "metadata": {},
   "outputs": [],
   "source": [
    "def transform(ens_vect,alpha_min,alpha_max):\n",
    "    nb_vect,dim = ens_vect.shape\n",
    "    ens_trans = np.zeros((nb_vect,dim))\n",
    "    for i in range(nb_vect):\n",
    "        x,y = ens_vect[i,:]\n",
    "        x_trans = alpha_min*x+(1-alpha_min)*y\n",
    "        y_trans = alpha_max*x+(1-alpha_max)*y\n",
    "        ens_trans[i,:]= np.array([x_trans,y_trans])\n",
    "    return ens_trans"
   ]
  },
  {
   "cell_type": "code",
   "execution_count": 23,
   "metadata": {},
   "outputs": [
    {
     "data": {
      "text/plain": [
       "array([[2.5, 1.6],\n",
       "       [2.5, 2.2],\n",
       "       [3.5, 4.4],\n",
       "       [2. , 2. ],\n",
       "       [2. , 2.6],\n",
       "       [3.5, 2.6],\n",
       "       [3.5, 3.2]])"
      ]
     },
     "execution_count": 23,
     "metadata": {},
     "output_type": "execute_result"
    }
   ],
   "source": [
    "transform(test,0.5,0.8)"
   ]
  },
  {
   "cell_type": "code",
   "execution_count": 54,
   "metadata": {},
   "outputs": [],
   "source": [
    "def minimax_I_dominance(ens_vect,k,alpha_min,alpha_max,MIN=True):\n",
    "    ens_trans = transform(ens_vect,alpha_min,alpha_max)\n",
    "    index = prog_dynamique(ens_trans,k,MIN)\n",
    "    images = image(ens_trans,index)\n",
    "    images_real = image(ens_vect,index)\n",
    "    #print(images)\n",
    "    #ens_trans = transform(images,alpha_min,alpha_max)\n",
    "    points_minimax =[]\n",
    "    for i in range(images.shape[0]):\n",
    "        y1,y2 = images_real[i,:]\n",
    "        if y1<=y2:\n",
    "            points_minimax.append(images[i,0])\n",
    "        else:\n",
    "            points_minimax.append(images[i,1])\n",
    "            \n",
    "    #print(points_minimax)\n",
    "    minimax = np.min(np.array(points_minimax))\n",
    "    #print(minimax)\n",
    "    index_point_minimax = np.where(np.array(points_minimax)==minimax)\n",
    "    return images[index_point_minimax,:], index[index_point_minimax,:]   "
   ]
  },
  {
   "cell_type": "code",
   "execution_count": 55,
   "metadata": {},
   "outputs": [
    {
     "data": {
      "text/plain": [
       "(array([[[6., 7.],\n",
       "         [7., 6.]]]),\n",
       " array([[[0., 1., 0., 1., 1., 0., 0.],\n",
       "         [1., 0., 0., 1., 1., 0., 0.]]]))"
      ]
     },
     "execution_count": 55,
     "metadata": {},
     "output_type": "execute_result"
    }
   ],
   "source": [
    "minimax_I_dominance(test,3,0,1,True)"
   ]
  },
  {
   "cell_type": "code",
   "execution_count": null,
   "metadata": {},
   "outputs": [],
   "source": []
  }
 ],
 "metadata": {
  "kernelspec": {
   "display_name": "Python 3",
   "language": "python",
   "name": "python3"
  },
  "language_info": {
   "codemirror_mode": {
    "name": "ipython",
    "version": 3
   },
   "file_extension": ".py",
   "mimetype": "text/x-python",
   "name": "python",
   "nbconvert_exporter": "python",
   "pygments_lexer": "ipython3",
   "version": "3.8.3"
  }
 },
 "nbformat": 4,
 "nbformat_minor": 4
}
